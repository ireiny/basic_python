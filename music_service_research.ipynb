{
 "cells": [
  {
   "cell_type": "markdown",
   "metadata": {
    "id": "Ml1hmfXC_Zcs"
   },
   "source": [
    "## Data overview\n",
    "\n",
    "Let's make our first impression about data"
   ]
  },
  {
   "cell_type": "code",
   "execution_count": 1,
   "metadata": {
    "id": "AXN7PHPN_Zcs"
   },
   "outputs": [],
   "source": [
    "import pandas as pd"
   ]
  },
  {
   "cell_type": "code",
   "execution_count": 2,
   "metadata": {
    "id": "fFVu7vqh_Zct"
   },
   "outputs": [],
   "source": [
    "try:\n",
    "    # local path\n",
    "    df = pd.read_csv('~/Documents/programming/basic_python/yandex_music_project.csv')\n",
    "     \n",
    "except:\n",
    "    # server path\n",
    "    df = pd.read_csv('/yandex_music_project.csv')  "
   ]
  },
  {
   "cell_type": "code",
   "execution_count": 3,
   "metadata": {
    "id": "oWTVX3gW_Zct"
   },
   "outputs": [
    {
     "data": {
      "text/html": [
       "<div>\n",
       "<style scoped>\n",
       "    .dataframe tbody tr th:only-of-type {\n",
       "        vertical-align: middle;\n",
       "    }\n",
       "\n",
       "    .dataframe tbody tr th {\n",
       "        vertical-align: top;\n",
       "    }\n",
       "\n",
       "    .dataframe thead th {\n",
       "        text-align: right;\n",
       "    }\n",
       "</style>\n",
       "<table border=\"1\" class=\"dataframe\">\n",
       "  <thead>\n",
       "    <tr style=\"text-align: right;\">\n",
       "      <th></th>\n",
       "      <th>userID</th>\n",
       "      <th>Track</th>\n",
       "      <th>artist</th>\n",
       "      <th>genre</th>\n",
       "      <th>City</th>\n",
       "      <th>time</th>\n",
       "      <th>Day</th>\n",
       "    </tr>\n",
       "  </thead>\n",
       "  <tbody>\n",
       "    <tr>\n",
       "      <th>0</th>\n",
       "      <td>FFB692EC</td>\n",
       "      <td>Kamigata To Boots</td>\n",
       "      <td>The Mass Missile</td>\n",
       "      <td>rock</td>\n",
       "      <td>Saint-Petersburg</td>\n",
       "      <td>20:28:33</td>\n",
       "      <td>Wednesday</td>\n",
       "    </tr>\n",
       "    <tr>\n",
       "      <th>1</th>\n",
       "      <td>55204538</td>\n",
       "      <td>Delayed Because of Accident</td>\n",
       "      <td>Andreas Rönnberg</td>\n",
       "      <td>rock</td>\n",
       "      <td>Moscow</td>\n",
       "      <td>14:07:09</td>\n",
       "      <td>Friday</td>\n",
       "    </tr>\n",
       "    <tr>\n",
       "      <th>2</th>\n",
       "      <td>20EC38</td>\n",
       "      <td>Funiculì funiculà</td>\n",
       "      <td>Mario Lanza</td>\n",
       "      <td>pop</td>\n",
       "      <td>Saint-Petersburg</td>\n",
       "      <td>20:58:07</td>\n",
       "      <td>Wednesday</td>\n",
       "    </tr>\n",
       "    <tr>\n",
       "      <th>3</th>\n",
       "      <td>A3DD03C9</td>\n",
       "      <td>Dragons in the Sunset</td>\n",
       "      <td>Fire + Ice</td>\n",
       "      <td>folk</td>\n",
       "      <td>Saint-Petersburg</td>\n",
       "      <td>08:37:09</td>\n",
       "      <td>Monday</td>\n",
       "    </tr>\n",
       "    <tr>\n",
       "      <th>4</th>\n",
       "      <td>E2DC1FAE</td>\n",
       "      <td>Soul People</td>\n",
       "      <td>Space Echo</td>\n",
       "      <td>dance</td>\n",
       "      <td>Moscow</td>\n",
       "      <td>08:34:34</td>\n",
       "      <td>Monday</td>\n",
       "    </tr>\n",
       "    <tr>\n",
       "      <th>5</th>\n",
       "      <td>842029A1</td>\n",
       "      <td>Преданная</td>\n",
       "      <td>IMPERVTOR</td>\n",
       "      <td>rusrap</td>\n",
       "      <td>Saint-Petersburg</td>\n",
       "      <td>13:09:41</td>\n",
       "      <td>Friday</td>\n",
       "    </tr>\n",
       "    <tr>\n",
       "      <th>6</th>\n",
       "      <td>4CB90AA5</td>\n",
       "      <td>True</td>\n",
       "      <td>Roman Messer</td>\n",
       "      <td>dance</td>\n",
       "      <td>Moscow</td>\n",
       "      <td>13:00:07</td>\n",
       "      <td>Wednesday</td>\n",
       "    </tr>\n",
       "    <tr>\n",
       "      <th>7</th>\n",
       "      <td>F03E1C1F</td>\n",
       "      <td>Feeling This Way</td>\n",
       "      <td>Polina Griffith</td>\n",
       "      <td>dance</td>\n",
       "      <td>Moscow</td>\n",
       "      <td>20:47:49</td>\n",
       "      <td>Wednesday</td>\n",
       "    </tr>\n",
       "    <tr>\n",
       "      <th>8</th>\n",
       "      <td>8FA1D3BE</td>\n",
       "      <td>И вновь продолжается бой</td>\n",
       "      <td>NaN</td>\n",
       "      <td>ruspop</td>\n",
       "      <td>Moscow</td>\n",
       "      <td>09:17:40</td>\n",
       "      <td>Friday</td>\n",
       "    </tr>\n",
       "    <tr>\n",
       "      <th>9</th>\n",
       "      <td>E772D5C0</td>\n",
       "      <td>Pessimist</td>\n",
       "      <td>NaN</td>\n",
       "      <td>dance</td>\n",
       "      <td>Saint-Petersburg</td>\n",
       "      <td>21:20:49</td>\n",
       "      <td>Wednesday</td>\n",
       "    </tr>\n",
       "  </tbody>\n",
       "</table>\n",
       "</div>"
      ],
      "text/plain": [
       "     userID                        Track            artist   genre  \\\n",
       "0  FFB692EC            Kamigata To Boots  The Mass Missile    rock   \n",
       "1  55204538  Delayed Because of Accident  Andreas Rönnberg    rock   \n",
       "2    20EC38            Funiculì funiculà       Mario Lanza     pop   \n",
       "3  A3DD03C9        Dragons in the Sunset        Fire + Ice    folk   \n",
       "4  E2DC1FAE                  Soul People        Space Echo   dance   \n",
       "5  842029A1                    Преданная         IMPERVTOR  rusrap   \n",
       "6  4CB90AA5                         True      Roman Messer   dance   \n",
       "7  F03E1C1F             Feeling This Way   Polina Griffith   dance   \n",
       "8  8FA1D3BE     И вновь продолжается бой               NaN  ruspop   \n",
       "9  E772D5C0                    Pessimist               NaN   dance   \n",
       "\n",
       "             City        time        Day  \n",
       "0  Saint-Petersburg  20:28:33  Wednesday  \n",
       "1            Moscow  14:07:09     Friday  \n",
       "2  Saint-Petersburg  20:58:07  Wednesday  \n",
       "3  Saint-Petersburg  08:37:09     Monday  \n",
       "4            Moscow  08:34:34     Monday  \n",
       "5  Saint-Petersburg  13:09:41     Friday  \n",
       "6            Moscow  13:00:07  Wednesday  \n",
       "7            Moscow  20:47:49  Wednesday  \n",
       "8            Moscow  09:17:40     Friday  \n",
       "9  Saint-Petersburg  21:20:49  Wednesday  "
      ]
     },
     "execution_count": 3,
     "metadata": {},
     "output_type": "execute_result"
    }
   ],
   "source": [
    "df.head(10)"
   ]
  },
  {
   "cell_type": "code",
   "execution_count": 4,
   "metadata": {
    "id": "DSf2kIb-_Zct"
   },
   "outputs": [
    {
     "name": "stdout",
     "output_type": "stream",
     "text": [
      "<class 'pandas.core.frame.DataFrame'>\n",
      "RangeIndex: 65079 entries, 0 to 65078\n",
      "Data columns (total 7 columns):\n",
      " #   Column    Non-Null Count  Dtype \n",
      "---  ------    --------------  ----- \n",
      " 0     userID  65079 non-null  object\n",
      " 1   Track     63848 non-null  object\n",
      " 2   artist    57876 non-null  object\n",
      " 3   genre     63881 non-null  object\n",
      " 4     City    65079 non-null  object\n",
      " 5   time      65079 non-null  object\n",
      " 6   Day       65079 non-null  object\n",
      "dtypes: object(7)\n",
      "memory usage: 3.5+ MB\n"
     ]
    }
   ],
   "source": [
    "df.info()"
   ]
  },
  {
   "cell_type": "markdown",
   "metadata": {
    "id": "TaQ2Iwbr_Zct"
   },
   "source": [
    "So the table has seven columns. The data type in all columns is `object`.\n",
    "\n",
    "According to the data documentation:\n",
    "* `userID` - user ID;\n",
    "* `Track` — track name;\n",
    "* `artist` — artist name;\n",
    "* `genre` — genre name;\n",
    "* `City` - user's city;\n",
    "* `time` - start time of listening;\n",
    "* `Day` is the day of the week.\n",
    "\n",
    "There are three style violations in the column headings:\n",
    "1. Lowercase letters are combined with uppercase.\n",
    "2. There are gaps.\n",
    "3. The name does not use snake register (userID)\n",
    "\n",
    "The number of values in the columns varies. This means that there are missing values in the data.\n",
    "\n",
    "**Conclusions**\n",
    "\n",
    "Each line of the table contains data about the track you have listened to. Some of the columns describe the composition itself: title, artist and genre. The rest of the data tells about the user: what city is he from, when he listened to music.\n",
    "\n",
    "Preliminarily, it can be stated that there is enough data to test hypotheses. But there are gaps in the data, and discrepancies in the names of the columns with good style.\n",
    "\n",
    "To move forward, we need to fix problems in the data."
   ]
  },
  {
   "cell_type": "markdown",
   "metadata": {
    "id": "SjYF6Ub9_Zct"
   },
   "source": [
    "## Data preprocessing\n",
    "\n",
    "Let's correct style of the column headings, eliminate gaps. Then check the data for duplicates.\n",
    "\n",
    "### Heading style"
   ]
  },
  {
   "cell_type": "code",
   "execution_count": 5,
   "metadata": {
    "id": "oKOTdF_Q_Zct"
   },
   "outputs": [
    {
     "data": {
      "text/plain": [
       "Index(['  userID', 'Track', 'artist', 'genre', '  City  ', 'time', 'Day'], dtype='object')"
      ]
     },
     "execution_count": 5,
     "metadata": {},
     "output_type": "execute_result"
    }
   ],
   "source": [
    "df.columns"
   ]
  },
  {
   "cell_type": "markdown",
   "metadata": {
    "id": "zj5534cv_Zct"
   },
   "source": [
    "Let's rename columns this way:\n",
    "* `'  userID'` → `'user_id'`;\n",
    "* `'Track'` → `'track'`;\n",
    "* `'  City  '` → `'city'`;\n",
    "* `'Day'` → `'day'`."
   ]
  },
  {
   "cell_type": "code",
   "execution_count": 6,
   "metadata": {
    "id": "ISlFqs5y_Zct"
   },
   "outputs": [],
   "source": [
    "df = df.rename(columns={'  userID': 'user_id', 'Track': 'track', '  City  ': 'city', 'Day': 'day'})"
   ]
  },
  {
   "cell_type": "code",
   "execution_count": 7,
   "metadata": {
    "id": "d4NOAmTW_Zct"
   },
   "outputs": [
    {
     "data": {
      "text/plain": [
       "Index(['user_id', 'track', 'artist', 'genre', 'city', 'time', 'day'], dtype='object')"
      ]
     },
     "execution_count": 7,
     "metadata": {},
     "output_type": "execute_result"
    }
   ],
   "source": [
    "df.columns"
   ]
  },
  {
   "cell_type": "markdown",
   "metadata": {
    "id": "5ISfbcfY_Zct"
   },
   "source": [
    "### Data gaps\n",
    "\n",
    "Let's count count number of missing values in the table."
   ]
  },
  {
   "cell_type": "code",
   "execution_count": 8,
   "metadata": {
    "id": "RskX29qr_Zct"
   },
   "outputs": [
    {
     "data": {
      "text/plain": [
       "user_id       0\n",
       "track      1231\n",
       "artist     7203\n",
       "genre      1198\n",
       "city          0\n",
       "time          0\n",
       "day           0\n",
       "dtype: int64"
      ]
     },
     "execution_count": 8,
     "metadata": {},
     "output_type": "execute_result"
    }
   ],
   "source": [
    "df.isna().sum()"
   ]
  },
  {
   "cell_type": "markdown",
   "metadata": {
    "id": "qubhgnlO_Zct"
   },
   "source": [
    "Not all missing values affect the study. So in `track` and `artist` gaps are not important for research. It suffices to replace them with explicit notation.\n",
    "\n",
    "But gaps in `genre` can obstruct the comparison of musical tastes in Moscow and St. Petersburg. In practice, it would be correct to determine the cause of the gaps and restore the data. This option is not available in our case so we will:\n",
    "* fill in these gaps with explicit notation,\n",
    "* estimate how much they will damage the calculations.\n",
    "\n",
    "Let's replace the missing values in the `track`, `artist` and `genre` columns with the string `'unknown'`. To do this, we will create a `columns_to_replace` list, iterate through its elements with a `for` loop, and for each column, replace the missing value:"
   ]
  },
  {
   "cell_type": "code",
   "execution_count": 9,
   "metadata": {
    "id": "KplB5qWs_Zct"
   },
   "outputs": [],
   "source": [
    "columns_to_replace = ['track', 'artist', 'genre']\n",
    "for column in columns_to_replace:\n",
    "    df[column] = df[column].fillna('unknown') "
   ]
  },
  {
   "cell_type": "markdown",
   "metadata": {
    "id": "Ilsm-MZo_Zct"
   },
   "source": [
    "Let's check that there are no more gaps in the table."
   ]
  },
  {
   "cell_type": "code",
   "execution_count": 10,
   "metadata": {
    "id": "Tq4nYRX4_Zct"
   },
   "outputs": [
    {
     "data": {
      "text/plain": [
       "user_id    0\n",
       "track      0\n",
       "artist     0\n",
       "genre      0\n",
       "city       0\n",
       "time       0\n",
       "day        0\n",
       "dtype: int64"
      ]
     },
     "execution_count": 10,
     "metadata": {},
     "output_type": "execute_result"
    }
   ],
   "source": [
    "df.isna().sum()"
   ]
  },
  {
   "cell_type": "markdown",
   "metadata": {
    "id": "BWKRtBJ3_Zct"
   },
   "source": [
    "### Duplicates."
   ]
  },
  {
   "cell_type": "code",
   "execution_count": 11,
   "metadata": {
    "id": "36eES_S0_Zct"
   },
   "outputs": [
    {
     "data": {
      "text/plain": [
       "3826"
      ]
     },
     "execution_count": 11,
     "metadata": {},
     "output_type": "execute_result"
    }
   ],
   "source": [
    "df.duplicated().sum()"
   ]
  },
  {
   "cell_type": "markdown",
   "metadata": {
    "id": "Ot25h6XR_Zct"
   },
   "source": [
    "Let's call the special `pandas` method to remove obvious duplicates:"
   ]
  },
  {
   "cell_type": "code",
   "execution_count": 12,
   "metadata": {
    "id": "exFHq6tt_Zct"
   },
   "outputs": [
    {
     "data": {
      "text/plain": [
       "0"
      ]
     },
     "execution_count": 12,
     "metadata": {},
     "output_type": "execute_result"
    }
   ],
   "source": [
    "df = df.drop_duplicates().reset_index(drop=True)\n",
    "df.duplicated().sum()"
   ]
  },
  {
   "cell_type": "markdown",
   "metadata": {
    "id": "QlFBsxAr_Zct"
   },
   "source": [
    "Now let's get rid of the implicit duplicates in the `genre` column. For example, the name of the same genre can be spelled slightly differently. Such errors will also affect the result of research. For this we will display a list of unique genre names sorted alphabetically. "
   ]
  },
  {
   "cell_type": "code",
   "execution_count": 13,
   "metadata": {
    "id": "JIUcqzZN_Zct"
   },
   "outputs": [
    {
     "data": {
      "text/plain": [
       "array(['acid', 'acoustic', 'action', 'adult', 'africa', 'afrikaans',\n",
       "       'alternative', 'alternativepunk', 'ambient', 'americana',\n",
       "       'animated', 'anime', 'arabesk', 'arabic', 'arena',\n",
       "       'argentinetango', 'art', 'audiobook', 'author', 'avantgarde',\n",
       "       'axé', 'baile', 'balkan', 'beats', 'bigroom', 'black', 'bluegrass',\n",
       "       'blues', 'bollywood', 'bossa', 'brazilian', 'breakbeat', 'breaks',\n",
       "       'broadway', 'cantautori', 'cantopop', 'canzone', 'caribbean',\n",
       "       'caucasian', 'celtic', 'chamber', 'chanson', 'children', 'chill',\n",
       "       'chinese', 'choral', 'christian', 'christmas', 'classical',\n",
       "       'classicmetal', 'club', 'colombian', 'comedy', 'conjazz',\n",
       "       'contemporary', 'country', 'cuban', 'dance', 'dancehall',\n",
       "       'dancepop', 'dark', 'death', 'deep', 'deutschrock', 'deutschspr',\n",
       "       'dirty', 'disco', 'dnb', 'documentary', 'downbeat', 'downtempo',\n",
       "       'drum', 'dub', 'dubstep', 'eastern', 'easy', 'electronic',\n",
       "       'electropop', 'emo', 'entehno', 'epicmetal', 'estrada', 'ethnic',\n",
       "       'eurofolk', 'european', 'experimental', 'extrememetal', 'fado',\n",
       "       'fairytail', 'film', 'fitness', 'flamenco', 'folk', 'folklore',\n",
       "       'folkmetal', 'folkrock', 'folktronica', 'forró', 'frankreich',\n",
       "       'französisch', 'french', 'funk', 'future', 'gangsta', 'garage',\n",
       "       'german', 'ghazal', 'gitarre', 'glitch', 'gospel', 'gothic',\n",
       "       'grime', 'grunge', 'gypsy', 'handsup', \"hard'n'heavy\", 'hardcore',\n",
       "       'hardstyle', 'hardtechno', 'hip', 'hip-hop', 'hiphop',\n",
       "       'historisch', 'holiday', 'hop', 'horror', 'house', 'hymn', 'idm',\n",
       "       'independent', 'indian', 'indie', 'indipop', 'industrial',\n",
       "       'inspirational', 'instrumental', 'international', 'irish', 'jam',\n",
       "       'japanese', 'jazz', 'jewish', 'jpop', 'jungle', 'k-pop',\n",
       "       'karadeniz', 'karaoke', 'kayokyoku', 'korean', 'laiko', 'latin',\n",
       "       'latino', 'leftfield', 'local', 'lounge', 'loungeelectronic',\n",
       "       'lovers', 'malaysian', 'mandopop', 'marschmusik', 'meditative',\n",
       "       'mediterranean', 'melodic', 'metal', 'metalcore', 'mexican',\n",
       "       'middle', 'minimal', 'miscellaneous', 'modern', 'mood', 'mpb',\n",
       "       'muslim', 'native', 'neoklassik', 'neue', 'new', 'newage',\n",
       "       'newwave', 'nu', 'nujazz', 'numetal', 'oceania', 'old', 'opera',\n",
       "       'orchestral', 'other', 'piano', 'podcasts', 'pop', 'popdance',\n",
       "       'popelectronic', 'popeurodance', 'poprussian', 'post',\n",
       "       'posthardcore', 'postrock', 'power', 'progmetal', 'progressive',\n",
       "       'psychedelic', 'punjabi', 'punk', 'quebecois', 'ragga', 'ram',\n",
       "       'rancheras', 'rap', 'rave', 'reggae', 'reggaeton', 'regional',\n",
       "       'relax', 'religious', 'retro', 'rhythm', 'rnb', 'rnr', 'rock',\n",
       "       'rockabilly', 'rockalternative', 'rockindie', 'rockother',\n",
       "       'romance', 'roots', 'ruspop', 'rusrap', 'rusrock', 'russian',\n",
       "       'salsa', 'samba', 'scenic', 'schlager', 'self', 'sertanejo',\n",
       "       'shanson', 'shoegazing', 'showtunes', 'singer', 'ska', 'skarock',\n",
       "       'slow', 'smooth', 'soft', 'soul', 'soulful', 'sound', 'soundtrack',\n",
       "       'southern', 'specialty', 'speech', 'spiritual', 'sport',\n",
       "       'stonerrock', 'surf', 'swing', 'synthpop', 'synthrock',\n",
       "       'sängerportrait', 'tango', 'tanzorchester', 'taraftar', 'tatar',\n",
       "       'tech', 'techno', 'teen', 'thrash', 'top', 'traditional',\n",
       "       'tradjazz', 'trance', 'tribal', 'trip', 'triphop', 'tropical',\n",
       "       'türk', 'türkçe', 'ukrrock', 'unknown', 'urban', 'uzbek',\n",
       "       'variété', 'vi', 'videogame', 'vocal', 'western', 'world',\n",
       "       'worldbeat', 'ïîï', 'электроника'], dtype=object)"
      ]
     },
     "execution_count": 13,
     "metadata": {},
     "output_type": "execute_result"
    }
   ],
   "source": [
    "df['genre'].sort_values().unique()"
   ]
  },
  {
   "cell_type": "markdown",
   "metadata": {
    "id": "qej-Qmuo_Zct"
   },
   "source": [
    "Let's look through the list and we will find implicit duplicates of the name `hiphop`. These may be misspelled titles or alternative titles in the same genre.\n",
    "\n",
    "We see the following implicit duplicates:\n",
    "**hip*,\n",
    "**hop*,\n",
    "**hip-hop*.\n",
    "\n",
    "To clear the table of them, let's write the `replace_wrong_genres()` function with two parameters:\n",
    "* `wrong_genres` - list of duplicates,\n",
    "* `correct_genre` is a string with the correct value.\n",
    "\n",
    "The function should correct the `genre` column in the `df` table: replace each value from the `wrong_genres` list with a value from `correct_genre`."
   ]
  },
  {
   "cell_type": "code",
   "execution_count": 14,
   "metadata": {
    "id": "ErNDkmns_Zct"
   },
   "outputs": [],
   "source": [
    "wrong_genres = ['hip', 'hip-hop', 'hop']\n",
    "correct_genre = 'hiphop'\n",
    "def replace_wrong_genres(wrong_genres, correct_genre):\n",
    "    for wrong_genre in wrong_genres:\n",
    "        df['genre'] = df['genre'].replace(wrong_genre, correct_genre)"
   ]
  },
  {
   "cell_type": "code",
   "execution_count": 15,
   "metadata": {
    "id": "YN5i2hpmSo09"
   },
   "outputs": [],
   "source": [
    "replace_wrong_genres(wrong_genres, correct_genre)"
   ]
  },
  {
   "cell_type": "code",
   "execution_count": 16,
   "metadata": {
    "id": "wvixALnFG15m"
   },
   "outputs": [
    {
     "data": {
      "text/plain": [
       "array(['acid', 'acoustic', 'action', 'adult', 'africa', 'afrikaans',\n",
       "       'alternative', 'alternativepunk', 'ambient', 'americana',\n",
       "       'animated', 'anime', 'arabesk', 'arabic', 'arena',\n",
       "       'argentinetango', 'art', 'audiobook', 'author', 'avantgarde',\n",
       "       'axé', 'baile', 'balkan', 'beats', 'bigroom', 'black', 'bluegrass',\n",
       "       'blues', 'bollywood', 'bossa', 'brazilian', 'breakbeat', 'breaks',\n",
       "       'broadway', 'cantautori', 'cantopop', 'canzone', 'caribbean',\n",
       "       'caucasian', 'celtic', 'chamber', 'chanson', 'children', 'chill',\n",
       "       'chinese', 'choral', 'christian', 'christmas', 'classical',\n",
       "       'classicmetal', 'club', 'colombian', 'comedy', 'conjazz',\n",
       "       'contemporary', 'country', 'cuban', 'dance', 'dancehall',\n",
       "       'dancepop', 'dark', 'death', 'deep', 'deutschrock', 'deutschspr',\n",
       "       'dirty', 'disco', 'dnb', 'documentary', 'downbeat', 'downtempo',\n",
       "       'drum', 'dub', 'dubstep', 'eastern', 'easy', 'electronic',\n",
       "       'electropop', 'emo', 'entehno', 'epicmetal', 'estrada', 'ethnic',\n",
       "       'eurofolk', 'european', 'experimental', 'extrememetal', 'fado',\n",
       "       'fairytail', 'film', 'fitness', 'flamenco', 'folk', 'folklore',\n",
       "       'folkmetal', 'folkrock', 'folktronica', 'forró', 'frankreich',\n",
       "       'französisch', 'french', 'funk', 'future', 'gangsta', 'garage',\n",
       "       'german', 'ghazal', 'gitarre', 'glitch', 'gospel', 'gothic',\n",
       "       'grime', 'grunge', 'gypsy', 'handsup', \"hard'n'heavy\", 'hardcore',\n",
       "       'hardstyle', 'hardtechno', 'hiphop', 'historisch', 'holiday',\n",
       "       'horror', 'house', 'hymn', 'idm', 'independent', 'indian', 'indie',\n",
       "       'indipop', 'industrial', 'inspirational', 'instrumental',\n",
       "       'international', 'irish', 'jam', 'japanese', 'jazz', 'jewish',\n",
       "       'jpop', 'jungle', 'k-pop', 'karadeniz', 'karaoke', 'kayokyoku',\n",
       "       'korean', 'laiko', 'latin', 'latino', 'leftfield', 'local',\n",
       "       'lounge', 'loungeelectronic', 'lovers', 'malaysian', 'mandopop',\n",
       "       'marschmusik', 'meditative', 'mediterranean', 'melodic', 'metal',\n",
       "       'metalcore', 'mexican', 'middle', 'minimal', 'miscellaneous',\n",
       "       'modern', 'mood', 'mpb', 'muslim', 'native', 'neoklassik', 'neue',\n",
       "       'new', 'newage', 'newwave', 'nu', 'nujazz', 'numetal', 'oceania',\n",
       "       'old', 'opera', 'orchestral', 'other', 'piano', 'podcasts', 'pop',\n",
       "       'popdance', 'popelectronic', 'popeurodance', 'poprussian', 'post',\n",
       "       'posthardcore', 'postrock', 'power', 'progmetal', 'progressive',\n",
       "       'psychedelic', 'punjabi', 'punk', 'quebecois', 'ragga', 'ram',\n",
       "       'rancheras', 'rap', 'rave', 'reggae', 'reggaeton', 'regional',\n",
       "       'relax', 'religious', 'retro', 'rhythm', 'rnb', 'rnr', 'rock',\n",
       "       'rockabilly', 'rockalternative', 'rockindie', 'rockother',\n",
       "       'romance', 'roots', 'ruspop', 'rusrap', 'rusrock', 'russian',\n",
       "       'salsa', 'samba', 'scenic', 'schlager', 'self', 'sertanejo',\n",
       "       'shanson', 'shoegazing', 'showtunes', 'singer', 'ska', 'skarock',\n",
       "       'slow', 'smooth', 'soft', 'soul', 'soulful', 'sound', 'soundtrack',\n",
       "       'southern', 'specialty', 'speech', 'spiritual', 'sport',\n",
       "       'stonerrock', 'surf', 'swing', 'synthpop', 'synthrock',\n",
       "       'sängerportrait', 'tango', 'tanzorchester', 'taraftar', 'tatar',\n",
       "       'tech', 'techno', 'teen', 'thrash', 'top', 'traditional',\n",
       "       'tradjazz', 'trance', 'tribal', 'trip', 'triphop', 'tropical',\n",
       "       'türk', 'türkçe', 'ukrrock', 'unknown', 'urban', 'uzbek',\n",
       "       'variété', 'vi', 'videogame', 'vocal', 'western', 'world',\n",
       "       'worldbeat', 'ïîï', 'электроника'], dtype=object)"
      ]
     },
     "execution_count": 16,
     "metadata": {},
     "output_type": "execute_result"
    }
   ],
   "source": [
    "df['genre'].sort_values().unique()# Проверка на неявные дубликаты"
   ]
  },
  {
   "cell_type": "markdown",
   "metadata": {
    "id": "jz6a9-7HQUDd"
   },
   "source": [
    "**Conclusions**\n",
    "\n",
    "Preprocessing found three problems in the data:\n",
    "\n",
    "- headline style,\n",
    "- missing values,\n",
    "- duplicates - explicit and implicit.\n",
    "\n",
    "We have fixed the headers to make the table easier to work with. Without duplicates, the study will become more accurate.\n",
    "\n",
    "We have replaced missing values with `'unknown'`. It remains to be seen whether the gaps in the `genre` column will harm the study.\n",
    "\n",
    "Now we can move on to hypothesis testing."
   ]
  },
  {
   "cell_type": "markdown",
   "metadata": {
    "id": "WttZHXH0SqKk"
   },
   "source": [
    "## Hypothesis testing"
   ]
  },
  {
   "cell_type": "markdown",
   "metadata": {
    "id": "Im936VVi_Zcu"
   },
   "source": [
    "### Comparison of user behavior in two capitals"
   ]
  },
  {
   "cell_type": "markdown",
   "metadata": {
    "id": "nwt_MuaL_Zcu"
   },
   "source": [
    "The first hypothesis states that users listen to music differently in Moscow and St. Petersburg. We will check this assumption against the data on the three days of the week - Monday, Wednesday and Friday. For this we need to:\n",
    "\n",
    "* Separate users of Moscow and St. Petersburg\n",
    "* Compare how many tracks each user group listened to on Monday, Wednesday and Friday."
   ]
  },
  {
   "cell_type": "code",
   "execution_count": 17,
   "metadata": {
    "id": "0_Qs96oh_Zcu"
   },
   "outputs": [
    {
     "data": {
      "text/plain": [
       "city\n",
       "Moscow              42741\n",
       "Saint-Petersburg    18512\n",
       "Name: user_id, dtype: int64"
      ]
     },
     "execution_count": 17,
     "metadata": {},
     "output_type": "execute_result"
    }
   ],
   "source": [
    "df.groupby('city')['user_id'].count()"
   ]
  },
  {
   "cell_type": "markdown",
   "metadata": {
    "id": "dzli3w8o_Zcu"
   },
   "source": [
    "There are more plays in Moscow than in St. Petersburg, but it does not mean that Moscow users listen to music more often, it just because there are more users in Moscow.\n",
    "\n",
    "Now let's group data by day of the week and count plays on Monday, Wednesday, and Friday."
   ]
  },
  {
   "cell_type": "code",
   "execution_count": 18,
   "metadata": {
    "id": "uZMKjiJz_Zcu"
   },
   "outputs": [
    {
     "data": {
      "text/plain": [
       "day\n",
       "Friday       21840\n",
       "Monday       21354\n",
       "Wednesday    18059\n",
       "Name: user_id, dtype: int64"
      ]
     },
     "execution_count": 18,
     "metadata": {},
     "output_type": "execute_result"
    }
   ],
   "source": [
    "df.groupby('day')['user_id'].count()"
   ]
  },
  {
   "cell_type": "markdown",
   "metadata": {
    "id": "cC2tNrlL_Zcu"
   },
   "source": [
    "Let's write `number_tracks()` function that will count the plays for a given day and city. It needs two parameters:\n",
    "* day of the week,\n",
    "* city name.\n",
    "\n",
    "In the function, save to a variable the rows of the source table that have the value:\n",
    "  * in the `day` column is equal to the `day` parameter,\n",
    "  * in the `city` column is equal to the `city` parameter.\n",
    "\n",
    "To do this, we will apply sequential filtering with logical indexing."
   ]
  },
  {
   "cell_type": "code",
   "execution_count": 19,
   "metadata": {
    "id": "Nz3GdQB1_Zcu"
   },
   "outputs": [],
   "source": [
    "def number_tracks(day, city):\n",
    "    track_list = df[df['day'] == day]\n",
    "    track_list = track_list[track_list['city'] == city]\n",
    "    track_list_count = track_list['user_id'].count()\n",
    "    return track_list_count"
   ]
  },
  {
   "cell_type": "markdown",
   "metadata": {
    "id": "ytf7xFrFJQ2r"
   },
   "source": [
    "Wiil call `number_tracks()` six times, changing parameters values — to receive data for each city for each day."
   ]
  },
  {
   "cell_type": "code",
   "execution_count": 20,
   "metadata": {
    "id": "rJcRATNQ_Zcu"
   },
   "outputs": [
    {
     "data": {
      "text/plain": [
       "15740"
      ]
     },
     "execution_count": 20,
     "metadata": {},
     "output_type": "execute_result"
    }
   ],
   "source": [
    "# Moscow on Mondays\n",
    "number_tracks('Monday', 'Moscow')"
   ]
  },
  {
   "cell_type": "code",
   "execution_count": 21,
   "metadata": {
    "id": "hq_ncZ5T_Zcu"
   },
   "outputs": [
    {
     "data": {
      "text/plain": [
       "5614"
      ]
     },
     "execution_count": 21,
     "metadata": {},
     "output_type": "execute_result"
    }
   ],
   "source": [
    "# S.Petersburg on Mondays\n",
    "number_tracks('Monday', 'Saint-Petersburg')"
   ]
  },
  {
   "cell_type": "code",
   "execution_count": 22,
   "metadata": {
    "id": "_NTy2VPU_Zcu"
   },
   "outputs": [
    {
     "data": {
      "text/plain": [
       "11056"
      ]
     },
     "execution_count": 22,
     "metadata": {},
     "output_type": "execute_result"
    }
   ],
   "source": [
    "# Moscow on Wednesday\n",
    "number_tracks('Wednesday', 'Moscow')"
   ]
  },
  {
   "cell_type": "code",
   "execution_count": 23,
   "metadata": {
    "id": "j2y3TAwo_Zcu"
   },
   "outputs": [
    {
     "data": {
      "text/plain": [
       "7003"
      ]
     },
     "execution_count": 23,
     "metadata": {},
     "output_type": "execute_result"
    }
   ],
   "source": [
    "# S.Petersburg on Wednesday\n",
    "number_tracks('Wednesday', 'Saint-Petersburg')"
   ]
  },
  {
   "cell_type": "code",
   "execution_count": 24,
   "metadata": {
    "id": "vYDw5u_K_Zcu"
   },
   "outputs": [
    {
     "data": {
      "text/plain": [
       "15945"
      ]
     },
     "execution_count": 24,
     "metadata": {},
     "output_type": "execute_result"
    }
   ],
   "source": [
    "# Moscow on Fridays\n",
    "number_tracks('Friday', 'Moscow')"
   ]
  },
  {
   "cell_type": "code",
   "execution_count": 25,
   "metadata": {
    "id": "8_yzFtW3_Zcu"
   },
   "outputs": [
    {
     "data": {
      "text/plain": [
       "5895"
      ]
     },
     "execution_count": 25,
     "metadata": {},
     "output_type": "execute_result"
    }
   ],
   "source": [
    "# S.Petersburg on Fridays\n",
    "number_tracks('Friday', 'Saint-Petersburg')"
   ]
  },
  {
   "cell_type": "code",
   "execution_count": 26,
   "metadata": {
    "id": "APAcLpOr_Zcu"
   },
   "outputs": [
    {
     "data": {
      "text/html": [
       "<div>\n",
       "<style scoped>\n",
       "    .dataframe tbody tr th:only-of-type {\n",
       "        vertical-align: middle;\n",
       "    }\n",
       "\n",
       "    .dataframe tbody tr th {\n",
       "        vertical-align: top;\n",
       "    }\n",
       "\n",
       "    .dataframe thead th {\n",
       "        text-align: right;\n",
       "    }\n",
       "</style>\n",
       "<table border=\"1\" class=\"dataframe\">\n",
       "  <thead>\n",
       "    <tr style=\"text-align: right;\">\n",
       "      <th></th>\n",
       "      <th>city</th>\n",
       "      <th>monday</th>\n",
       "      <th>wednesday</th>\n",
       "      <th>friday</th>\n",
       "    </tr>\n",
       "  </thead>\n",
       "  <tbody>\n",
       "    <tr>\n",
       "      <th>0</th>\n",
       "      <td>Moscow</td>\n",
       "      <td>15740</td>\n",
       "      <td>11056</td>\n",
       "      <td>15945</td>\n",
       "    </tr>\n",
       "    <tr>\n",
       "      <th>1</th>\n",
       "      <td>Saint-Petersburg</td>\n",
       "      <td>5614</td>\n",
       "      <td>7003</td>\n",
       "      <td>5895</td>\n",
       "    </tr>\n",
       "  </tbody>\n",
       "</table>\n",
       "</div>"
      ],
      "text/plain": [
       "               city  monday  wednesday  friday\n",
       "0            Moscow   15740      11056   15945\n",
       "1  Saint-Petersburg    5614       7003    5895"
      ]
     },
     "metadata": {},
     "output_type": "display_data"
    }
   ],
   "source": [
    "# Таблица с результатами\n",
    "columns = ['city', 'monday', 'wednesday', 'friday']\n",
    "\n",
    "results = [\n",
    "    ['Moscow', 15740, 11056, 15945],\n",
    "    ['Saint-Petersburg', 5614, 7003, 5895]\n",
    "          ]\n",
    "\n",
    "table = pd.DataFrame(data=results, columns=columns)\n",
    "display(table)\n"
   ]
  },
  {
   "cell_type": "markdown",
   "metadata": {
    "id": "-EgPIHYu_Zcu"
   },
   "source": [
    "**Выводы**\n",
    "\n",
    "Данные показывают разницу поведения пользователей:\n",
    "\n",
    "- В Москве пик прослушиваний приходится на понедельник и пятницу, а в среду заметен спад.\n",
    "- В Петербурге, наоборот, больше слушают музыку по средам. Активность в понедельник и пятницу здесь почти в равной мере уступает среде.\n",
    "\n",
    "Значит, данные говорят в пользу первой гипотезы.\n",
    "\n",
    "**Conclusions**\n",
    "\n",
    "Data shows the difference in user behavior:\n",
    "\n",
    "- In Moscow, the peak of plays is on Monday and Friday, and on Wednesday there is a noticeable decline.\n",
    "- In St. Petersburg, on the contrary, they listen to music more on Wednesdays. Activity on Monday and Friday here is almost equally inferior to Wednesday.\n",
    "\n",
    "So the data support the first hypothesis."
   ]
  },
  {
   "cell_type": "markdown",
   "metadata": {
    "id": "atZAxtq4_Zcu"
   },
   "source": [
    "### Music at the beginning and end of the week"
   ]
  },
  {
   "cell_type": "markdown",
   "metadata": {
    "id": "eXrQqXFH_Zcu"
   },
   "source": [
    "According to the second hypothesis, on Monday morning certain genres predominate in Moscow, while others dominate in St. Petersburg. Similarly, Friday evenings are dominated by different genres, depending on the city."
   ]
  },
  {
   "cell_type": "code",
   "execution_count": 27,
   "metadata": {
    "id": "qeaFfM_P_Zcu"
   },
   "outputs": [],
   "source": [
    "moscow_general = df[df['city'] == 'Moscow']"
   ]
  },
  {
   "cell_type": "code",
   "execution_count": 28,
   "metadata": {
    "id": "ORaVRKto_Zcu"
   },
   "outputs": [],
   "source": [
    "spb_general = df[df['city'] == 'Saint-Petersburg']"
   ]
  },
  {
   "cell_type": "markdown",
   "metadata": {
    "id": "MEJV-CX2_Zcu"
   },
   "source": [
    "Let's create a function `genre_weekday()` with four parameters:\n",
    "* table (dataframe) with data,\n",
    "* day of the week,\n",
    "* start timestamp in 'hh:mm' format,\n",
    "* last timestamp in 'hh:mm' format.\n",
    "\n",
    "The function should return information about the top 10 genres of those tracks that were listened to on the specified day, in the interval between two timestamps."
   ]
  },
  {
   "cell_type": "code",
   "execution_count": 29,
   "metadata": {
    "id": "laJT9BYl_Zcu"
   },
   "outputs": [],
   "source": [
    "def genre_weekday(table, day, time1, time2):\n",
    "    genre_df = table[table['day'] == day]\n",
    "    genre_df = genre_df[genre_df['time'] > time1]\n",
    "    genre_df = genre_df[genre_df['time'] < time2]\n",
    "    genre_df_count = genre_df.groupby('genre')['user_id'].count()\n",
    "    genre_df_sorted = genre_df_count.sort_values(ascending=False)\n",
    "    print(genre_df_sorted.head(10))"
   ]
  },
  {
   "cell_type": "code",
   "execution_count": 30,
   "metadata": {
    "id": "yz7itPUQ_Zcu"
   },
   "outputs": [
    {
     "name": "stdout",
     "output_type": "stream",
     "text": [
      "genre\n",
      "pop            781\n",
      "dance          549\n",
      "electronic     480\n",
      "rock           474\n",
      "hiphop         286\n",
      "ruspop         186\n",
      "world          181\n",
      "rusrap         175\n",
      "alternative    164\n",
      "unknown        161\n",
      "Name: user_id, dtype: int64\n",
      "None\n"
     ]
    }
   ],
   "source": [
    "# Monday morning in Moscow\n",
    "print(genre_weekday(moscow_general, 'Monday', '07:00', '11:00'))"
   ]
  },
  {
   "cell_type": "code",
   "execution_count": 31,
   "metadata": {
    "id": "kwUcHPdy_Zcu"
   },
   "outputs": [
    {
     "name": "stdout",
     "output_type": "stream",
     "text": [
      "genre\n",
      "pop            218\n",
      "dance          182\n",
      "rock           162\n",
      "electronic     147\n",
      "hiphop          80\n",
      "ruspop          64\n",
      "alternative     58\n",
      "rusrap          55\n",
      "jazz            44\n",
      "classical       40\n",
      "Name: user_id, dtype: int64\n",
      "None\n"
     ]
    }
   ],
   "source": [
    "# Monday morning in S.Petersburg\n",
    "print(genre_weekday(spb_general, 'Monday', '07:00', '11:00'))"
   ]
  },
  {
   "cell_type": "code",
   "execution_count": 32,
   "metadata": {
    "id": "EzXVRE1o_Zcu"
   },
   "outputs": [
    {
     "name": "stdout",
     "output_type": "stream",
     "text": [
      "genre\n",
      "pop            713\n",
      "rock           517\n",
      "dance          495\n",
      "electronic     482\n",
      "hiphop         273\n",
      "world          208\n",
      "ruspop         170\n",
      "alternative    163\n",
      "classical      163\n",
      "rusrap         142\n",
      "Name: user_id, dtype: int64\n"
     ]
    },
    {
     "data": {
      "text/plain": [
       "None"
      ]
     },
     "metadata": {},
     "output_type": "display_data"
    }
   ],
   "source": [
    "# Friday evening in Moscow\n",
    "display(genre_weekday(moscow_general, 'Friday', '17:00', '23:00'))"
   ]
  },
  {
   "cell_type": "code",
   "execution_count": 33,
   "metadata": {
    "id": "JZaEKu5v_Zcu"
   },
   "outputs": [
    {
     "name": "stdout",
     "output_type": "stream",
     "text": [
      "genre\n",
      "pop            256\n",
      "electronic     216\n",
      "rock           216\n",
      "dance          210\n",
      "hiphop          97\n",
      "alternative     63\n",
      "jazz            61\n",
      "classical       60\n",
      "rusrap          59\n",
      "world           54\n",
      "Name: user_id, dtype: int64\n"
     ]
    },
    {
     "data": {
      "text/plain": [
       "None"
      ]
     },
     "metadata": {},
     "output_type": "display_data"
    }
   ],
   "source": [
    "# Friday evening in S.Petersburg\n",
    "display(genre_weekday(spb_general, 'Friday', '17:00', '23:00'))"
   ]
  },
  {
   "cell_type": "markdown",
   "metadata": {
    "id": "wrCe4MNX_Zcu"
   },
   "source": [
    "**Conclusions**\n",
    "\n",
    "If we compare the top 10 genres on Monday morning, we can make following conclusions:\n",
    "\n",
    "1. In Moscow and St. Petersburg they listen to similar music. The only difference is that the Moscow rating includes the “world” genre, while the St. Petersburg rating includes jazz and classical.\n",
    "\n",
    "2. There were so many missing values in Moscow that the value `'unknown'` took tenth place among the most popular genres. This means that missing values occupy a significant share in data and threaten the reliability of the study.\n",
    "\n",
    "Friday night does not change this picture. Some genres rise a little higher, others go down, but overall the top 10 stays the same.\n",
    "\n",
    "Thus, the second hypothesis was only partially confirmed:\n",
    "* Users listen to similar music at the beginning of the week and at the end.\n",
    "* The difference between Moscow and St. Petersburg is not very pronounced. In Moscow, they listen to Russian popular music more often, in St. Petersburg - jazz.\n",
    "\n",
    "However, gaps in the data cast doubt on this result. There are so many of them in Moscow that the top 10 ranking could look different if it were not for the lost genre data."
   ]
  },
  {
   "cell_type": "markdown",
   "metadata": {
    "id": "JolODAqr_Zcu"
   },
   "source": [
    "### Genre preferences in Moscow and St. Petersburg\n",
    "\n",
    "Hypothesis: St. Petersburg is the capital of rap, the music of this genre is listened to more often than in Moscow. And Moscow is a city of contrasts, which, nevertheless, is dominated by pop music."
   ]
  },
  {
   "cell_type": "markdown",
   "metadata": {
    "id": "DlegSvaT_Zcu"
   },
   "source": [
    "Let's group the `moscow_general` table by genre and count the plays of each genre's tracks using the `count()` method. Then sort the result in descending order and store it in the `moscow_genres` table."
   ]
  },
  {
   "cell_type": "code",
   "execution_count": 34,
   "metadata": {
    "id": "r19lIPke_Zcu"
   },
   "outputs": [],
   "source": [
    "moscow_genres = moscow_general.groupby('genre')['user_id'].count().sort_values(ascending=False)"
   ]
  },
  {
   "cell_type": "code",
   "execution_count": 35,
   "metadata": {
    "id": "WhCSooF8_Zcv"
   },
   "outputs": [
    {
     "name": "stdout",
     "output_type": "stream",
     "text": [
      "genre\n",
      "pop            5892\n",
      "dance          4435\n",
      "rock           3965\n",
      "electronic     3786\n",
      "hiphop         2096\n",
      "classical      1616\n",
      "world          1432\n",
      "alternative    1379\n",
      "ruspop         1372\n",
      "rusrap         1161\n",
      "Name: user_id, dtype: int64\n"
     ]
    }
   ],
   "source": [
    "print(moscow_genres.head(10))"
   ]
  },
  {
   "cell_type": "code",
   "execution_count": 36,
   "metadata": {
    "id": "gluLIpE7_Zcv"
   },
   "outputs": [],
   "source": [
    "spb_genres = spb_general.groupby('genre')['user_id'].count().sort_values(ascending=False)"
   ]
  },
  {
   "cell_type": "code",
   "execution_count": 37,
   "metadata": {
    "id": "uaGJHjVU_Zcv"
   },
   "outputs": [
    {
     "name": "stdout",
     "output_type": "stream",
     "text": [
      "genre\n",
      "pop            2431\n",
      "dance          1932\n",
      "rock           1879\n",
      "electronic     1736\n",
      "hiphop          960\n",
      "alternative     649\n",
      "classical       646\n",
      "rusrap          564\n",
      "ruspop          538\n",
      "world           515\n",
      "Name: user_id, dtype: int64\n"
     ]
    }
   ],
   "source": [
    "print(spb_genres.head(10))"
   ]
  },
  {
   "cell_type": "markdown",
   "metadata": {
    "id": "nVhnJEm__Zcv"
   },
   "source": [
    "**Conclusions**\n",
    "\n",
    "The hypothesis was partially confirmed:\n",
    "* Pop music is the most popular genre in Moscow, as the hypothesis suggested. Moreover, in the top 10 genres there is a close genre - Russian popular music.\n",
    "* Contrary to expectations, rap is equally popular in Moscow and St. Petersburg."
   ]
  }
 ],
 "metadata": {
  "ExecuteTimeLog": [
   {
    "duration": 224,
    "start_time": "2022-01-20T13:48:31.167Z"
   },
   {
    "duration": 519,
    "start_time": "2022-01-20T13:48:39.941Z"
   },
   {
    "duration": 130,
    "start_time": "2022-01-20T13:48:42.712Z"
   },
   {
    "duration": 8,
    "start_time": "2022-01-20T13:48:45.919Z"
   },
   {
    "duration": 24,
    "start_time": "2022-01-20T13:49:14.209Z"
   },
   {
    "duration": 154,
    "start_time": "2022-01-20T13:56:05.764Z"
   },
   {
    "duration": 3,
    "start_time": "2022-01-20T13:56:11.443Z"
   },
   {
    "duration": 2,
    "start_time": "2022-01-20T13:56:14.298Z"
   },
   {
    "duration": 3,
    "start_time": "2022-01-20T13:56:19.156Z"
   },
   {
    "duration": 3,
    "start_time": "2022-01-20T13:56:20.575Z"
   },
   {
    "duration": 4,
    "start_time": "2022-01-20T13:56:44.825Z"
   },
   {
    "duration": 46,
    "start_time": "2022-01-20T13:59:36.588Z"
   },
   {
    "duration": 25,
    "start_time": "2022-01-20T13:59:50.940Z"
   },
   {
    "duration": 5,
    "start_time": "2022-01-20T13:59:53.242Z"
   },
   {
    "duration": 28,
    "start_time": "2022-01-20T14:02:31.378Z"
   },
   {
    "duration": 25,
    "start_time": "2022-01-20T14:03:20.022Z"
   },
   {
    "duration": 3616,
    "start_time": "2022-01-20T14:05:51.129Z"
   },
   {
    "duration": -892,
    "start_time": "2022-01-20T14:05:55.639Z"
   },
   {
    "duration": 19,
    "start_time": "2022-01-20T14:07:00.411Z"
   },
   {
    "duration": 23,
    "start_time": "2022-01-20T14:07:04.000Z"
   },
   {
    "duration": 59,
    "start_time": "2022-01-20T14:08:51.376Z"
   },
   {
    "duration": 57,
    "start_time": "2022-01-20T14:09:35.242Z"
   },
   {
    "duration": 59,
    "start_time": "2022-01-20T14:09:43.086Z"
   },
   {
    "duration": 72,
    "start_time": "2022-01-20T14:09:48.391Z"
   },
   {
    "duration": 54,
    "start_time": "2022-01-20T14:09:51.633Z"
   },
   {
    "duration": 41,
    "start_time": "2022-01-20T14:15:37.695Z"
   },
   {
    "duration": 3,
    "start_time": "2022-01-20T14:41:19.234Z"
   },
   {
    "duration": 10,
    "start_time": "2022-01-20T14:41:35.586Z"
   },
   {
    "duration": 40,
    "start_time": "2022-01-20T14:41:55.259Z"
   },
   {
    "duration": 44,
    "start_time": "2022-01-20T14:52:52.193Z"
   },
   {
    "duration": 12,
    "start_time": "2022-01-20T14:53:25.290Z"
   },
   {
    "duration": 12,
    "start_time": "2022-01-20T14:54:22.431Z"
   },
   {
    "duration": 3,
    "start_time": "2022-01-20T15:00:15.697Z"
   },
   {
    "duration": 147,
    "start_time": "2022-01-20T15:02:06.000Z"
   },
   {
    "duration": 16,
    "start_time": "2022-01-20T15:02:17.882Z"
   },
   {
    "duration": 16,
    "start_time": "2022-01-20T15:14:56.480Z"
   },
   {
    "duration": 14,
    "start_time": "2022-01-20T15:14:59.824Z"
   },
   {
    "duration": 18,
    "start_time": "2022-01-20T15:15:02.186Z"
   },
   {
    "duration": 17,
    "start_time": "2022-01-20T15:15:04.138Z"
   },
   {
    "duration": 17,
    "start_time": "2022-01-20T15:16:40.607Z"
   },
   {
    "duration": 5,
    "start_time": "2022-01-20T15:20:47.756Z"
   },
   {
    "duration": 5,
    "start_time": "2022-01-20T15:20:51.266Z"
   },
   {
    "duration": 7,
    "start_time": "2022-01-20T15:21:02.572Z"
   },
   {
    "duration": 8,
    "start_time": "2022-01-20T15:21:10.649Z"
   },
   {
    "duration": 10,
    "start_time": "2022-01-20T15:22:59.661Z"
   },
   {
    "duration": 10,
    "start_time": "2022-01-20T15:23:01.093Z"
   },
   {
    "duration": 367,
    "start_time": "2022-01-21T09:22:42.807Z"
   },
   {
    "duration": 4,
    "start_time": "2022-01-21T09:23:00.559Z"
   },
   {
    "duration": 293,
    "start_time": "2022-01-21T09:23:03.247Z"
   },
   {
    "duration": 312,
    "start_time": "2022-01-21T10:08:27.459Z"
   },
   {
    "duration": 271,
    "start_time": "2022-01-21T10:09:02.739Z"
   },
   {
    "duration": 714,
    "start_time": "2022-01-21T10:09:39.158Z"
   },
   {
    "duration": 187,
    "start_time": "2022-01-21T10:09:41.559Z"
   },
   {
    "duration": 10,
    "start_time": "2022-01-21T10:09:43.507Z"
   },
   {
    "duration": 38,
    "start_time": "2022-01-21T10:09:46.096Z"
   },
   {
    "duration": 3,
    "start_time": "2022-01-21T10:09:51.384Z"
   },
   {
    "duration": 19,
    "start_time": "2022-01-21T10:09:54.670Z"
   },
   {
    "duration": 3,
    "start_time": "2022-01-21T10:09:56.533Z"
   },
   {
    "duration": 26,
    "start_time": "2022-01-21T10:09:59.234Z"
   },
   {
    "duration": 17,
    "start_time": "2022-01-21T10:10:02.895Z"
   },
   {
    "duration": 21,
    "start_time": "2022-01-21T10:10:06.609Z"
   },
   {
    "duration": 54,
    "start_time": "2022-01-21T10:10:09.734Z"
   },
   {
    "duration": 63,
    "start_time": "2022-01-21T10:10:12.242Z"
   },
   {
    "duration": 49,
    "start_time": "2022-01-21T10:10:14.106Z"
   },
   {
    "duration": 36,
    "start_time": "2022-01-21T10:10:24.835Z"
   },
   {
    "duration": 3,
    "start_time": "2022-01-21T10:10:29.703Z"
   },
   {
    "duration": 9,
    "start_time": "2022-01-21T10:10:32.556Z"
   },
   {
    "duration": 37,
    "start_time": "2022-01-21T10:10:39.588Z"
   },
   {
    "duration": 15,
    "start_time": "2022-01-21T10:53:43.029Z"
   },
   {
    "duration": 10,
    "start_time": "2022-01-21T10:53:55.604Z"
   },
   {
    "duration": 11,
    "start_time": "2022-01-21T10:53:59.272Z"
   },
   {
    "duration": 3,
    "start_time": "2022-01-21T10:54:03.380Z"
   },
   {
    "duration": 15,
    "start_time": "2022-01-21T10:54:08.077Z"
   },
   {
    "duration": 14,
    "start_time": "2022-01-21T10:54:09.366Z"
   },
   {
    "duration": 14,
    "start_time": "2022-01-21T10:54:10.566Z"
   },
   {
    "duration": 14,
    "start_time": "2022-01-21T10:54:11.903Z"
   },
   {
    "duration": 17,
    "start_time": "2022-01-21T10:54:13.864Z"
   },
   {
    "duration": 15,
    "start_time": "2022-01-21T10:54:16.014Z"
   },
   {
    "duration": 8,
    "start_time": "2022-01-21T10:54:18.552Z"
   },
   {
    "duration": 9,
    "start_time": "2022-01-21T10:54:22.967Z"
   },
   {
    "duration": 12,
    "start_time": "2022-01-21T10:54:26.242Z"
   },
   {
    "duration": 18,
    "start_time": "2022-01-21T10:54:46.003Z"
   },
   {
    "duration": 3,
    "start_time": "2022-01-21T10:54:59.655Z"
   },
   {
    "duration": 15,
    "start_time": "2022-01-21T10:55:04.377Z"
   },
   {
    "duration": 17,
    "start_time": "2022-01-21T10:55:29.606Z"
   },
   {
    "duration": 16,
    "start_time": "2022-01-21T10:55:47.151Z"
   },
   {
    "duration": 3,
    "start_time": "2022-01-21T11:42:03.600Z"
   },
   {
    "duration": 561,
    "start_time": "2022-01-21T11:42:05.990Z"
   },
   {
    "duration": 3,
    "start_time": "2022-01-21T11:43:09.123Z"
   },
   {
    "duration": 3,
    "start_time": "2022-01-21T11:43:33.932Z"
   },
   {
    "duration": 17,
    "start_time": "2022-01-21T11:43:36.565Z"
   },
   {
    "duration": 10,
    "start_time": "2022-01-21T11:44:02.467Z"
   },
   {
    "duration": 11,
    "start_time": "2022-01-21T11:44:11.551Z"
   },
   {
    "duration": 15,
    "start_time": "2022-01-21T11:45:05.628Z"
   },
   {
    "duration": 13,
    "start_time": "2022-01-21T12:19:01.035Z"
   },
   {
    "duration": 335,
    "start_time": "2022-01-21T12:24:04.638Z"
   },
   {
    "duration": 20,
    "start_time": "2022-01-21T12:24:32.617Z"
   },
   {
    "duration": 90,
    "start_time": "2022-01-21T12:24:54.504Z"
   },
   {
    "duration": 5,
    "start_time": "2022-01-21T12:24:59.677Z"
   },
   {
    "duration": 8,
    "start_time": "2022-01-21T12:25:39.915Z"
   },
   {
    "duration": 4,
    "start_time": "2022-01-21T12:25:42.282Z"
   },
   {
    "duration": 7,
    "start_time": "2022-01-21T12:25:51.708Z"
   },
   {
    "duration": 7,
    "start_time": "2022-01-21T12:25:53.728Z"
   },
   {
    "duration": 4,
    "start_time": "2022-01-21T12:25:55.550Z"
   },
   {
    "duration": 8,
    "start_time": "2022-01-21T12:26:12.006Z"
   },
   {
    "duration": 4,
    "start_time": "2022-01-21T12:26:15.038Z"
   },
   {
    "duration": 4,
    "start_time": "2022-01-21T12:26:26.104Z"
   },
   {
    "duration": 9,
    "start_time": "2022-01-21T12:26:32.852Z"
   },
   {
    "duration": 4,
    "start_time": "2022-01-21T12:26:34.637Z"
   },
   {
    "duration": 6,
    "start_time": "2022-01-21T12:27:35.387Z"
   },
   {
    "duration": 4,
    "start_time": "2022-01-21T12:27:51.665Z"
   },
   {
    "duration": 4,
    "start_time": "2022-01-21T12:27:55.526Z"
   },
   {
    "duration": 817,
    "start_time": "2022-01-26T06:37:58.531Z"
   },
   {
    "duration": 198,
    "start_time": "2022-01-26T06:37:59.352Z"
   },
   {
    "duration": 11,
    "start_time": "2022-01-26T06:37:59.554Z"
   },
   {
    "duration": 35,
    "start_time": "2022-01-26T06:37:59.568Z"
   },
   {
    "duration": 5,
    "start_time": "2022-01-26T06:37:59.606Z"
   },
   {
    "duration": 69,
    "start_time": "2022-01-26T06:37:59.614Z"
   },
   {
    "duration": 7,
    "start_time": "2022-01-26T06:37:59.687Z"
   },
   {
    "duration": 76,
    "start_time": "2022-01-26T06:37:59.700Z"
   },
   {
    "duration": 28,
    "start_time": "2022-01-26T06:37:59.779Z"
   },
   {
    "duration": 47,
    "start_time": "2022-01-26T06:37:59.810Z"
   },
   {
    "duration": 105,
    "start_time": "2022-01-26T06:37:59.861Z"
   },
   {
    "duration": 110,
    "start_time": "2022-01-26T06:37:59.968Z"
   },
   {
    "duration": 90,
    "start_time": "2022-01-26T06:38:00.080Z"
   },
   {
    "duration": 57,
    "start_time": "2022-01-26T06:38:00.173Z"
   },
   {
    "duration": 18,
    "start_time": "2022-01-26T06:38:00.233Z"
   },
   {
    "duration": 24,
    "start_time": "2022-01-26T06:38:00.253Z"
   },
   {
    "duration": 80,
    "start_time": "2022-01-26T06:38:00.280Z"
   },
   {
    "duration": 21,
    "start_time": "2022-01-26T06:38:00.362Z"
   },
   {
    "duration": 19,
    "start_time": "2022-01-26T06:38:00.386Z"
   },
   {
    "duration": 6,
    "start_time": "2022-01-26T06:38:00.408Z"
   },
   {
    "duration": 48,
    "start_time": "2022-01-26T06:38:00.417Z"
   },
   {
    "duration": 32,
    "start_time": "2022-01-26T06:38:00.468Z"
   },
   {
    "duration": 33,
    "start_time": "2022-01-26T06:38:00.505Z"
   },
   {
    "duration": 44,
    "start_time": "2022-01-26T06:38:00.540Z"
   },
   {
    "duration": 54,
    "start_time": "2022-01-26T06:38:00.586Z"
   },
   {
    "duration": 28,
    "start_time": "2022-01-26T06:38:00.642Z"
   },
   {
    "duration": 18,
    "start_time": "2022-01-26T06:38:00.672Z"
   },
   {
    "duration": 22,
    "start_time": "2022-01-26T06:38:00.693Z"
   },
   {
    "duration": 30,
    "start_time": "2022-01-26T06:38:00.718Z"
   },
   {
    "duration": 7,
    "start_time": "2022-01-26T06:38:00.752Z"
   },
   {
    "duration": 50,
    "start_time": "2022-01-26T06:38:00.762Z"
   },
   {
    "duration": 35,
    "start_time": "2022-01-26T06:38:00.815Z"
   },
   {
    "duration": 28,
    "start_time": "2022-01-26T06:38:00.853Z"
   },
   {
    "duration": 43,
    "start_time": "2022-01-26T06:38:00.884Z"
   },
   {
    "duration": 27,
    "start_time": "2022-01-26T06:38:00.930Z"
   },
   {
    "duration": 6,
    "start_time": "2022-01-26T06:38:00.960Z"
   },
   {
    "duration": 19,
    "start_time": "2022-01-26T06:38:00.968Z"
   },
   {
    "duration": 11,
    "start_time": "2022-01-26T06:38:00.990Z"
   },
   {
    "duration": 378,
    "start_time": "2022-01-26T14:02:24.634Z"
   },
   {
    "duration": 754,
    "start_time": "2022-01-26T14:02:33.488Z"
   },
   {
    "duration": 190,
    "start_time": "2022-01-26T14:02:35.840Z"
   },
   {
    "duration": 26,
    "start_time": "2022-01-26T14:02:38.525Z"
   },
   {
    "duration": 115,
    "start_time": "2022-01-26T14:03:53.299Z"
   },
   {
    "duration": 188,
    "start_time": "2022-01-26T14:04:22.173Z"
   },
   {
    "duration": 16,
    "start_time": "2022-01-26T14:04:24.331Z"
   },
   {
    "duration": 103,
    "start_time": "2022-01-26T14:04:29.675Z"
   },
   {
    "duration": 5,
    "start_time": "2022-01-26T17:20:20.296Z"
   },
   {
    "duration": 363,
    "start_time": "2022-01-26T17:23:21.477Z"
   },
   {
    "duration": 65,
    "start_time": "2022-01-26T17:23:28.766Z"
   },
   {
    "duration": 437,
    "start_time": "2022-01-26T17:23:31.564Z"
   },
   {
    "duration": 4,
    "start_time": "2022-01-26T17:23:34.051Z"
   },
   {
    "duration": 14,
    "start_time": "2022-01-26T17:23:35.376Z"
   },
   {
    "duration": 65,
    "start_time": "2022-01-26T17:23:44.026Z"
   },
   {
    "duration": 89,
    "start_time": "2022-01-26T17:23:46.306Z"
   },
   {
    "duration": 99,
    "start_time": "2022-01-26T17:23:48.337Z"
   },
   {
    "duration": 8545,
    "start_time": "2022-01-26T17:23:51.166Z"
   },
   {
    "duration": -935,
    "start_time": "2022-01-26T17:24:00.649Z"
   },
   {
    "duration": 18,
    "start_time": "2022-01-26T17:24:07.457Z"
   },
   {
    "duration": 34,
    "start_time": "2022-01-26T17:24:10.450Z"
   },
   {
    "duration": 7,
    "start_time": "2022-01-26T17:24:14.964Z"
   },
   {
    "duration": 25,
    "start_time": "2022-01-26T17:24:17.875Z"
   },
   {
    "duration": 5,
    "start_time": "2022-01-26T17:24:20.075Z"
   },
   {
    "duration": 7,
    "start_time": "2022-01-26T17:24:29.389Z"
   },
   {
    "duration": 31,
    "start_time": "2022-01-26T17:24:32.314Z"
   },
   {
    "duration": 23,
    "start_time": "2022-01-26T17:24:35.654Z"
   },
   {
    "duration": 29,
    "start_time": "2022-01-26T17:24:38.214Z"
   },
   {
    "duration": 82,
    "start_time": "2022-01-26T17:24:42.563Z"
   },
   {
    "duration": 92,
    "start_time": "2022-01-26T17:24:45.026Z"
   },
   {
    "duration": 80,
    "start_time": "2022-01-26T17:24:46.962Z"
   },
   {
    "duration": 59,
    "start_time": "2022-01-26T17:24:50.433Z"
   },
   {
    "duration": 5,
    "start_time": "2022-01-26T17:24:53.915Z"
   },
   {
    "duration": 14,
    "start_time": "2022-01-26T17:24:56.015Z"
   },
   {
    "duration": 60,
    "start_time": "2022-01-26T17:25:01.676Z"
   },
   {
    "duration": 17,
    "start_time": "2022-01-26T17:25:05.532Z"
   },
   {
    "duration": 15,
    "start_time": "2022-01-26T17:25:08.450Z"
   },
   {
    "duration": 5,
    "start_time": "2022-01-26T17:25:11.590Z"
   },
   {
    "duration": 26,
    "start_time": "2022-01-26T17:25:14.363Z"
   },
   {
    "duration": 20,
    "start_time": "2022-01-26T17:25:16.341Z"
   },
   {
    "duration": 19,
    "start_time": "2022-01-26T17:25:17.807Z"
   },
   {
    "duration": 19,
    "start_time": "2022-01-26T17:25:19.324Z"
   },
   {
    "duration": 22,
    "start_time": "2022-01-26T17:25:21.081Z"
   },
   {
    "duration": 21,
    "start_time": "2022-01-26T17:25:22.414Z"
   },
   {
    "duration": 12,
    "start_time": "2022-01-26T17:25:28.888Z"
   },
   {
    "duration": 14,
    "start_time": "2022-01-26T17:25:38.088Z"
   },
   {
    "duration": 13,
    "start_time": "2022-01-26T17:25:39.443Z"
   },
   {
    "duration": 5,
    "start_time": "2022-01-26T17:25:42.406Z"
   },
   {
    "duration": 6,
    "start_time": "2022-01-26T17:25:47.610Z"
   },
   {
    "duration": 13,
    "start_time": "2022-01-26T17:25:50.828Z"
   },
   {
    "duration": 17,
    "start_time": "2022-01-26T17:25:52.053Z"
   },
   {
    "duration": 7,
    "start_time": "2022-01-26T17:25:53.611Z"
   },
   {
    "duration": 26,
    "start_time": "2022-01-26T17:25:58.028Z"
   },
   {
    "duration": 25,
    "start_time": "2022-01-26T17:26:05.938Z"
   },
   {
    "duration": 16,
    "start_time": "2022-01-26T17:26:09.863Z"
   },
   {
    "duration": 24,
    "start_time": "2022-01-26T17:26:13.126Z"
   },
   {
    "duration": 17,
    "start_time": "2022-01-26T17:26:15.741Z"
   },
   {
    "duration": 13,
    "start_time": "2022-01-26T17:26:42.287Z"
   },
   {
    "duration": 6,
    "start_time": "2022-01-26T17:26:44.086Z"
   },
   {
    "duration": 9,
    "start_time": "2022-01-26T17:26:46.279Z"
   },
   {
    "duration": 5,
    "start_time": "2022-01-26T17:26:48.146Z"
   }
  ],
  "colab": {
   "collapsed_sections": [
    "E0vqbgi9ay0H",
    "VUC88oWjTJw2"
   ],
   "name": "yandex_music_project_2021.2.ipynb",
   "provenance": []
  },
  "kernelspec": {
   "display_name": "Python 3.9.7 64-bit",
   "language": "python",
   "name": "python3"
  },
  "language_info": {
   "codemirror_mode": {
    "name": "ipython",
    "version": 3
   },
   "file_extension": ".py",
   "mimetype": "text/x-python",
   "name": "python",
   "nbconvert_exporter": "python",
   "pygments_lexer": "ipython3",
   "version": "3.9.7"
  },
  "toc": {
   "base_numbering": 1,
   "nav_menu": {},
   "number_sections": true,
   "sideBar": true,
   "skip_h1_title": true,
   "title_cell": "Table of Contents",
   "title_sidebar": "Contents",
   "toc_cell": false,
   "toc_position": {},
   "toc_section_display": true,
   "toc_window_display": true
  },
  "vscode": {
   "interpreter": {
    "hash": "aee8b7b246df8f9039afb4144a1f6fd8d2ca17a180786b69acc140d282b71a49"
   }
  }
 },
 "nbformat": 4,
 "nbformat_minor": 1
}
